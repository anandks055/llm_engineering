{
 "cells": [
  {
   "cell_type": "markdown",
   "id": "d15d8294-3328-4e07-ad16-8a03e9bbfdb9",
   "metadata": {},
   "source": [
    "# Welcome to your first assignment!\n",
    "\n",
    "Instructions are below. Please give this a try, and look in the solutions folder if you get stuck (or feel free to ask me!)"
   ]
  },
  {
   "cell_type": "markdown",
   "id": "ada885d9-4d42-4d9b-97f0-74fbbbfe93a9",
   "metadata": {},
   "source": [
    "<table style=\"margin: 0; text-align: left;\">\n",
    "    <tr>\n",
    "        <td style=\"width: 150px; height: 150px; vertical-align: middle;\">\n",
    "            <img src=\"../resources.jpg\" width=\"150\" height=\"150\" style=\"display: block;\" />\n",
    "        </td>\n",
    "        <td>\n",
    "            <h2 style=\"color:#f71;\">Just before we get to the assignment --</h2>\n",
    "            <span style=\"color:#f71;\">I thought I'd take a second to point you at this page of useful resources for the course. This includes links to all the slides.<br/>\n",
    "            <a href=\"https://edwarddonner.com/2024/11/13/llm-engineering-resources/\">https://edwarddonner.com/2024/11/13/llm-engineering-resources/</a><br/>\n",
    "            Please keep this bookmarked, and I'll continue to add more useful links there over time.\n",
    "            </span>\n",
    "        </td>\n",
    "    </tr>\n",
    "</table>"
   ]
  },
  {
   "cell_type": "markdown",
   "id": "6e9fa1fc-eac5-4d1d-9be4-541b3f2b3458",
   "metadata": {},
   "source": [
    "# HOMEWORK EXERCISE ASSIGNMENT\n",
    "\n",
    "Upgrade the day 1 project to summarize a webpage to use an Open Source model running locally via Ollama rather than OpenAI\n",
    "\n",
    "You'll be able to use this technique for all subsequent projects if you'd prefer not to use paid APIs.\n",
    "\n",
    "**Benefits:**\n",
    "1. No API charges - open-source\n",
    "2. Data doesn't leave your box\n",
    "\n",
    "**Disadvantages:**\n",
    "1. Significantly less power than Frontier Model\n",
    "\n",
    "## Recap on installation of Ollama\n",
    "\n",
    "Simply visit [ollama.com](https://ollama.com) and install!\n",
    "\n",
    "Once complete, the ollama server should already be running locally.  \n",
    "If you visit:  \n",
    "[http://localhost:11434/](http://localhost:11434/)\n",
    "\n",
    "You should see the message `Ollama is running`.  \n",
    "\n",
    "If not, bring up a new Terminal (Mac) or Powershell (Windows) and enter `ollama serve`  \n",
    "And in another Terminal (Mac) or Powershell (Windows), enter `ollama pull llama3.2`  \n",
    "Then try [http://localhost:11434/](http://localhost:11434/) again.\n",
    "\n",
    "If Ollama is slow on your machine, try using `llama3.2:1b` as an alternative. Run `ollama pull llama3.2:1b` from a Terminal or Powershell, and change the code below from `MODEL = \"llama3.2\"` to `MODEL = \"llama3.2:1b\"`"
   ]
  },
  {
   "cell_type": "code",
   "execution_count": 1,
   "id": "4e2a9393-7767-488e-a8bf-27c12dca35bd",
   "metadata": {},
   "outputs": [],
   "source": [
    "# imports\n",
    "\n",
    "import requests\n",
    "from bs4 import BeautifulSoup\n",
    "from IPython.display import Markdown, display"
   ]
  },
  {
   "cell_type": "code",
   "execution_count": 2,
   "id": "29ddd15d-a3c5-4f4e-a678-873f56162724",
   "metadata": {},
   "outputs": [],
   "source": [
    "# Constants\n",
    "\n",
    "OLLAMA_API = \"http://localhost:11434/api/chat\"\n",
    "HEADERS = {\"Content-Type\": \"application/json\"}\n",
    "MODEL = \"llama3.2\""
   ]
  },
  {
   "cell_type": "code",
   "execution_count": 3,
   "id": "dac0a679-599c-441f-9bf2-ddc73d35b940",
   "metadata": {},
   "outputs": [],
   "source": [
    "# Create a messages list using the same format that we used for OpenAI\n",
    "\n",
    "messages = [\n",
    "    {\"role\": \"user\", \"content\": \"Describe some of the business applications of Generative AI\"}\n",
    "]"
   ]
  },
  {
   "cell_type": "code",
   "execution_count": 4,
   "id": "7bb9c624-14f0-4945-a719-8ddb64f66f47",
   "metadata": {},
   "outputs": [],
   "source": [
    "payload = {\n",
    "        \"model\": MODEL,\n",
    "        \"messages\": messages,\n",
    "        \"stream\": False\n",
    "    }"
   ]
  },
  {
   "cell_type": "code",
   "execution_count": 5,
   "id": "479ff514-e8bd-4985-a572-2ea28bb4fa40",
   "metadata": {},
   "outputs": [
    {
     "name": "stderr",
     "output_type": "stream",
     "text": [
      "\u001b[?2026h\u001b[?25l\u001b[1Gpulling manifest â ‹ \u001b[K\u001b[?25h\u001b[?2026l\u001b[?2026h\u001b[?25l\u001b[1Gpulling manifest â ™ \u001b[K\u001b[?25h\u001b[?2026l\u001b[?2026h\u001b[?25l\u001b[1Gpulling manifest â ¹ \u001b[K\u001b[?25h\u001b[?2026l\u001b[?2026h\u001b[?25l\u001b[1Gpulling manifest â ¸ \u001b[K\u001b[?25h\u001b[?2026l\u001b[?2026h\u001b[?25l\u001b[1Gpulling manifest â ¼ \u001b[K\u001b[?25h\u001b[?2026l\u001b[?2026h\u001b[?25l\u001b[1Gpulling manifest â ´ \u001b[K\u001b[?25h\u001b[?2026l\u001b[?2026h\u001b[?25l\u001b[1Gpulling manifest â ¦ \u001b[K\u001b[?25h\u001b[?2026l\u001b[?2026h\u001b[?25l\u001b[1Gpulling manifest â § \u001b[K\u001b[?25h\u001b[?2026l\u001b[?2026h\u001b[?25l\u001b[1Gpulling manifest â ‡ \u001b[K\u001b[?25h\u001b[?2026l\u001b[?2026h\u001b[?25l\u001b[1Gpulling manifest â � \u001b[K\u001b[?25h\u001b[?2026l\u001b[?2026h\u001b[?25l\u001b[1Gpulling manifest â ‹ \u001b[K\u001b[?25h\u001b[?2026l\u001b[?2026h\u001b[?25l\u001b[1Gpulling manifest â ™ \u001b[K\u001b[?25h\u001b[?2026l\u001b[?2026h\u001b[?25l\u001b[1Gpulling manifest \u001b[K\n",
      "pulling dde5aa3fc5ff... 100% â–•â–ˆâ–ˆâ–ˆâ–ˆâ–ˆâ–ˆâ–ˆâ–ˆâ–ˆâ–ˆâ–ˆâ–ˆâ–ˆâ–ˆâ–ˆâ–ˆâ–� 2.0 GB                         \u001b[K\n",
      "pulling 966de95ca8a6... 100% â–•â–ˆâ–ˆâ–ˆâ–ˆâ–ˆâ–ˆâ–ˆâ–ˆâ–ˆâ–ˆâ–ˆâ–ˆâ–ˆâ–ˆâ–ˆâ–ˆâ–� 1.4 KB                         \u001b[K\n",
      "pulling fcc5a6bec9da... 100% â–•â–ˆâ–ˆâ–ˆâ–ˆâ–ˆâ–ˆâ–ˆâ–ˆâ–ˆâ–ˆâ–ˆâ–ˆâ–ˆâ–ˆâ–ˆâ–ˆâ–� 7.7 KB                         \u001b[K\n",
      "pulling a70ff7e570d9... 100% â–•â–ˆâ–ˆâ–ˆâ–ˆâ–ˆâ–ˆâ–ˆâ–ˆâ–ˆâ–ˆâ–ˆâ–ˆâ–ˆâ–ˆâ–ˆâ–ˆâ–� 6.0 KB                         \u001b[K\u001b[?25h\u001b[?2026l\u001b[?2026h\u001b[?25l\u001b[A\u001b[A\u001b[A\u001b[A\u001b[1Gpulling manifest \u001b[K\n",
      "pulling dde5aa3fc5ff... 100% â–•â–ˆâ–ˆâ–ˆâ–ˆâ–ˆâ–ˆâ–ˆâ–ˆâ–ˆâ–ˆâ–ˆâ–ˆâ–ˆâ–ˆâ–ˆâ–ˆâ–� 2.0 GB                         \u001b[K\n",
      "pulling 966de95ca8a6... 100% â–•â–ˆâ–ˆâ–ˆâ–ˆâ–ˆâ–ˆâ–ˆâ–ˆâ–ˆâ–ˆâ–ˆâ–ˆâ–ˆâ–ˆâ–ˆâ–ˆâ–� 1.4 KB                         \u001b[K\n",
      "pulling fcc5a6bec9da... 100% â–•â–ˆâ–ˆâ–ˆâ–ˆâ–ˆâ–ˆâ–ˆâ–ˆâ–ˆâ–ˆâ–ˆâ–ˆâ–ˆâ–ˆâ–ˆâ–ˆâ–� 7.7 KB                         \u001b[K\n",
      "pulling a70ff7e570d9... 100% â–•â–ˆâ–ˆâ–ˆâ–ˆâ–ˆâ–ˆâ–ˆâ–ˆâ–ˆâ–ˆâ–ˆâ–ˆâ–ˆâ–ˆâ–ˆâ–ˆâ–� 6.0 KB                         \u001b[K\n",
      "pulling 56bb8bd477a5... 100% â–•â–ˆâ–ˆâ–ˆâ–ˆâ–ˆâ–ˆâ–ˆâ–ˆâ–ˆâ–ˆâ–ˆâ–ˆâ–ˆâ–ˆâ–ˆâ–ˆâ–�   96 B                         \u001b[K\n",
      "pulling 34bb5ab01051... 100% â–•â–ˆâ–ˆâ–ˆâ–ˆâ–ˆâ–ˆâ–ˆâ–ˆâ–ˆâ–ˆâ–ˆâ–ˆâ–ˆâ–ˆâ–ˆâ–ˆâ–�  561 B                         \u001b[K\n",
      "verifying sha256 digest \u001b[K\n",
      "writing manifest \u001b[K\n",
      "success \u001b[K\u001b[?25h\u001b[?2026l\n"
     ]
    }
   ],
   "source": [
    "# Let's just make sure the model is loaded\n",
    "\n",
    "!ollama pull llama3.2"
   ]
  },
  {
   "cell_type": "code",
   "execution_count": 6,
   "id": "42b9f644-522d-4e05-a691-56e7658c0ea9",
   "metadata": {},
   "outputs": [
    {
     "name": "stdout",
     "output_type": "stream",
     "text": [
      "Generative AI has numerous business applications across various industries, including:\n",
      "\n",
      "1. **Content Generation**: AI-powered content generation tools can produce high-quality content such as articles, social media posts, and product descriptions, saving time and resources for content creators.\n",
      "2. **Marketing Automation**: Generative AI can help automate marketing efforts by generating personalized customer emails, social media ads, and promotional materials based on customer data and preferences.\n",
      "3. **Product Design and Development**: AI-powered design tools can generate 2D and 3D product designs, reducing the time and cost associated with traditional design processes.\n",
      "4. **Chatbots and Virtual Assistants**: Generative AI can power chatbots and virtual assistants that provide personalized customer support, answering frequently asked questions and routing complex issues to human representatives.\n",
      "5. **Data Analysis and Visualization**: AI-powered data analysis tools can generate insights and visualizations from large datasets, helping businesses make data-driven decisions and identify trends.\n",
      "6. **Predictive Maintenance**: Generative AI can be used to predict equipment failures and maintenance needs, reducing downtime and increasing overall efficiency.\n",
      "7. **Financial Modeling and Forecasting**: AI-powered financial modeling tools can generate forecasts and scenarios based on historical data and market trends, helping businesses make more accurate predictions and decisions.\n",
      "8. **Customer Service and Support**: Generative AI can be used to generate personalized customer support responses, freeing up human representatives to focus on more complex issues.\n",
      "9. **Supply Chain Optimization**: AI-powered supply chain optimization tools can generate optimized routes, schedules, and inventory levels, reducing costs and improving delivery times.\n",
      "10. **Creative Writing and Editing**: Generative AI can assist writers with ideas, suggestions, and editing tasks, helping to improve the quality and efficiency of content creation.\n",
      "\n",
      "Some specific examples of businesses using generative AI include:\n",
      "\n",
      "* **Amazon**: Uses AI-powered tools to generate personalized product recommendations and optimize supply chain operations.\n",
      "* **Google**: Employs AI-powered tools to generate news summaries and suggest relevant content to users.\n",
      "* **Microsoft**: Leverages AI-powered tools to generate chatbot responses, personalize customer support, and automate marketing efforts.\n",
      "* **KPMG**: Uses AI-powered tools to analyze financial data and generate forecasts, helping clients make more accurate predictions and decisions.\n",
      "\n",
      "These are just a few examples of the many businesses that are already using generative AI to drive innovation, efficiency, and growth.\n"
     ]
    }
   ],
   "source": [
    "# If this doesn't work for any reason, try the 2 versions in the following cells\n",
    "# And double check the instructions in the 'Recap on installation of Ollama' at the top of this lab\n",
    "# And if none of that works - contact me!\n",
    "\n",
    "response = requests.post(OLLAMA_API, json=payload, headers=HEADERS)\n",
    "print(response.json()['message']['content'])"
   ]
  },
  {
   "cell_type": "markdown",
   "id": "6a021f13-d6a1-4b96-8e18-4eae49d876fe",
   "metadata": {},
   "source": [
    "# Introducing the ollama package\n",
    "\n",
    "And now we'll do the same thing, but using the elegant ollama python package instead of a direct HTTP call.\n",
    "\n",
    "Under the hood, it's making the same call as above to the ollama server running at localhost:11434"
   ]
  },
  {
   "cell_type": "code",
   "execution_count": 7,
   "id": "7745b9c4-57dc-4867-9180-61fa5db55eb8",
   "metadata": {},
   "outputs": [
    {
     "name": "stdout",
     "output_type": "stream",
     "text": [
      "Generative AI has numerous business applications across various industries. Some examples include:\n",
      "\n",
      "1. **Content Generation**: AI can generate high-quality content such as articles, social media posts, product descriptions, and more. This can help businesses save time and resources while maintaining consistency in their messaging.\n",
      "2. **Product Design**: Generative AI can be used to design products, such as furniture, electronics, and clothing, by generating 3D models and prototypes.\n",
      "3. **Image and Video Creation**: AI can generate images and videos for use in marketing campaigns, product demos, and other applications where high-quality visual content is needed.\n",
      "4. **Chatbots and Virtual Assistants**: Generative AI can be used to create chatbots and virtual assistants that provide customer support and answer frequently asked questions.\n",
      "5. **Predictive Maintenance**: AI can analyze sensor data from machines and predict when maintenance is needed, reducing downtime and increasing efficiency.\n",
      "6. **Customer Service**: Generative AI can be used to generate personalized responses to customer inquiries, improving the overall customer experience.\n",
      "7. **Creative Writing**: AI can assist writers by generating ideas, outlines, and even entire articles, helping to streamline the creative process.\n",
      "8. **Data Analysis**: Generative AI can analyze large datasets to identify patterns and trends, providing insights that would be difficult for humans to detect on their own.\n",
      "9. **Personalization**: AI can generate personalized recommendations for customers based on their behavior, preferences, and demographic information.\n",
      "10. **Supply Chain Optimization**: Generative AI can optimize supply chain operations by predicting demand, identifying bottlenecks, and suggesting improvements.\n",
      "\n",
      "Some specific business applications of Generative AI include:\n",
      "\n",
      "* **Virtual Product Showrooms**: AI-powered virtual product showrooms allow customers to interact with products in a more immersive and personalized way.\n",
      "* **Automated Content Moderation**: AI-powered content moderation systems can help reduce the time and effort required for human moderators to review user-generated content.\n",
      "* **Predictive Sales Forecasting**: Generative AI can analyze historical sales data, market trends, and other factors to predict future sales performance.\n",
      "* **Customized Product Recommendations**: AI can generate personalized product recommendations based on customer preferences, behavior, and demographic information.\n",
      "\n",
      "These are just a few examples of the many business applications of Generative AI. As the technology continues to evolve, we can expect to see even more innovative uses across various industries.\n"
     ]
    }
   ],
   "source": [
    "import ollama\n",
    "\n",
    "response = ollama.chat(model=MODEL, messages=messages)\n",
    "print(response['message']['content'])"
   ]
  },
  {
   "cell_type": "markdown",
   "id": "a4704e10-f5fb-4c15-a935-f046c06fb13d",
   "metadata": {},
   "source": [
    "## Alternative approach - using OpenAI python library to connect to Ollama"
   ]
  },
  {
   "cell_type": "code",
   "execution_count": 8,
   "id": "23057e00-b6fc-4678-93a9-6b31cb704bff",
   "metadata": {},
   "outputs": [
    {
     "name": "stdout",
     "output_type": "stream",
     "text": [
      "Generative AI has numerous business applications across various industries. Here are some examples:\n",
      "\n",
      "1. **Content Creation**: Generative AI can be used to generate high-quality content such as articles, blog posts, social media posts, and more. This can save time and resources for content creators and businesses.\n",
      "\n",
      "2. **Marketing Automation**: Generative AI can be used to personalize marketing campaigns by generating personalized content, product descriptions, and ads tailored to specific customer segments.\n",
      "\n",
      "3. **Sales Enablement**: Generative AI-powered tools can help sales teams generate lead magnets, sales collateral, and even entire sales scripts.\n",
      "\n",
      "4. **Product Development**: Generative AI can be used in the design of new products such as cars, planes, buildings, and other complex systems.\n",
      "\n",
      "5. **Financial Modeling**: Generative AI can be used to create sophisticated financial models that enable businesses to forecast revenue growth, predict market trends, and make informed investment decisions.\n",
      "\n",
      "6. **Influencer Marketing**: Generative AI-powered tools can help identify the most influential people in a particular niche or industry, creating personalized content recommendations for these influencers.\n",
      "\n",
      "7. **Social Media Management**: Generative AI can help monitor social media conversations across multiple brands, products, and services, providing insights into customer sentiment and opinion trends.\n",
      "\n",
      "8. **Customer Service Chatbots**: Generative AI-powered chatbots can respond to customer inquiries, provide product information, and even offer personalized solutions to complex issues.\n",
      "\n",
      "9. **Creative Writing**: Generative AI can be used in creative writing such as generating script ideas for movies and TV shows, or creating poetry and short stories.\n",
      "\n",
      "10. **Customer Personalization**: Generative AI-powered tools can help tailor a business's customer experience by analyzing data on individual customers' behavior patterns, preferences, and interests to offer more personalized experiences.\n",
      "\n",
      "11. **Human Resource Recruitment**: Generative AI can be used in talent sourcing and recruitment processes by generating job descriptions, identifying passive candidates, and assessing resumes.\n",
      "\n",
      "12.  The technology also offers the potential for automating many routine human jobs with high efficiency levels of output quality such as proof reading.\n",
      "\n",
      "To explore business applications of generative AI, it's good to stay updated on a continually evolving field through a mix of news articles, blog posts, and emerging technologies.\n"
     ]
    }
   ],
   "source": [
    "# There's actually an alternative approach that some people might prefer\n",
    "# You can use the OpenAI client python library to call Ollama:\n",
    "\n",
    "from openai import OpenAI\n",
    "ollama_via_openai = OpenAI(base_url='http://localhost:11434/v1', api_key='ollama')\n",
    "\n",
    "response = ollama_via_openai.chat.completions.create(\n",
    "    model=MODEL,\n",
    "    messages=messages\n",
    ")\n",
    "\n",
    "print(response.choices[0].message.content)"
   ]
  },
  {
   "cell_type": "markdown",
   "id": "bc7d1de3-e2ac-46ff-a302-3b4ba38c4c90",
   "metadata": {},
   "source": [
    "## Also trying the amazing reasoning model DeepSeek\n",
    "\n",
    "Here we use the version of DeepSeek-reasoner that's been distilled to 1.5B.  \n",
    "This is actually a 1.5B variant of Qwen that has been fine-tuned using synethic data generated by Deepseek R1.\n",
    "\n",
    "Other sizes of DeepSeek are [here](https://ollama.com/library/deepseek-r1) all the way up to the full 671B parameter version, which would use up 404GB of your drive and is far too large for most!"
   ]
  },
  {
   "cell_type": "code",
   "execution_count": null,
   "id": "cf9eb44e-fe5b-47aa-b719-0bb63669ab3d",
   "metadata": {},
   "outputs": [],
   "source": [
    "!ollama pull deepseek-r1:1.5b"
   ]
  },
  {
   "cell_type": "code",
   "execution_count": null,
   "id": "1d3d554b-e00d-4c08-9300-45e073950a76",
   "metadata": {},
   "outputs": [],
   "source": [
    "# This may take a few minutes to run! You should then see a fascinating \"thinking\" trace inside <think> tags, followed by some decent definitions\n",
    "\n",
    "response = ollama_via_openai.chat.completions.create(\n",
    "    model=\"deepseek-r1:1.5b\",\n",
    "    messages=[{\"role\": \"user\", \"content\": \"Please give definitions of some core concepts behind LLMs: a neural network, attention and the transformer\"}]\n",
    ")\n",
    "\n",
    "print(response.choices[0].message.content)"
   ]
  },
  {
   "cell_type": "markdown",
   "id": "1622d9bb-5c68-4d4e-9ca4-b492c751f898",
   "metadata": {},
   "source": [
    "# NOW the exercise for you\n",
    "\n",
    "Take the code from day1 and incorporate it here, to build a website summarizer that uses Llama 3.2 running locally instead of OpenAI; use either of the above approaches."
   ]
  },
  {
   "cell_type": "code",
   "execution_count": 9,
   "id": "6de38216-6d1c-48c4-877b-86d403f4e0f8",
   "metadata": {},
   "outputs": [],
   "source": [
    "import os\n",
    "import requests\n",
    "from dotenv import load_dotenv\n",
    "from bs4 import BeautifulSoup\n",
    "from IPython.display import Markdown, display\n",
    "from openai import OpenAI"
   ]
  },
  {
   "cell_type": "code",
   "execution_count": 10,
   "id": "819fbdda-a09e-48d8-b933-b8cfb24b7617",
   "metadata": {},
   "outputs": [],
   "source": [
    "# A class to represent a Webpage\n",
    "# If you're not familiar with Classes, check out the \"Intermediate Python\" notebook\n",
    "\n",
    "# Some websites need you to use proper headers when fetching them:\n",
    "headers = {\n",
    " \"User-Agent\": \"Mozilla/5.0 (Windows NT 10.0; Win64; x64) AppleWebKit/537.36 (KHTML, like Gecko) Chrome/117.0.0.0 Safari/537.36\"\n",
    "}\n",
    "\n",
    "class Website:\n",
    "\n",
    "    def __init__(self, url):\n",
    "        \"\"\"\n",
    "        Create this Website object from the given url using the BeautifulSoup library\n",
    "        \"\"\"\n",
    "        self.url = url\n",
    "        response = requests.get(url, headers=headers)\n",
    "        soup = BeautifulSoup(response.content, 'html.parser')\n",
    "        self.title = soup.title.string if soup.title else \"No title found\"\n",
    "        for irrelevant in soup.body([\"script\", \"style\", \"img\", \"input\"]):\n",
    "            irrelevant.decompose()\n",
    "        self.text = soup.body.get_text(separator=\"\\n\", strip=True)"
   ]
  },
  {
   "cell_type": "code",
   "execution_count": 11,
   "id": "39caa339-b28b-414b-89c3-1796f2ef5d26",
   "metadata": {},
   "outputs": [
    {
     "name": "stdout",
     "output_type": "stream",
     "text": [
      "Home - Edward Donner\n",
      "Home\n",
      "Connect Four\n",
      "Outsmart\n",
      "An arena that pits LLMs against each other in a battle of diplomacy and deviousness\n",
      "About\n",
      "Posts\n",
      "Well, hi there.\n",
      "I’m Ed. I like writing code and experimenting with LLMs, and hopefully you’re here because you do too. I also enjoy DJing (but I’m badly out of practice), amateur electronic music production (\n",
      "very\n",
      "amateur) and losing myself in\n",
      "Hacker News\n",
      ", nodding my head sagely to things I only half understand.\n",
      "I’m the co-founder and CTO of\n",
      "Nebula.io\n",
      ". We’re applying AI to a field where it can make a massive, positive impact: helping people discover their potential and pursue their reason for being. Recruiters use our product today to source, understand, engage and manage talent. I’m previously the founder and CEO of AI startup untapt,\n",
      "acquired in 2021\n",
      ".\n",
      "We work with groundbreaking, proprietary LLMs verticalized for talent, we’ve\n",
      "patented\n",
      "our matching model, and our award-winning platform has happy customers and tons of press coverage.\n",
      "Connect\n",
      "with me for more!\n",
      "January 23, 2025\n",
      "LLM Workshop – Hands-on with Agents – resources\n",
      "December 21, 2024\n",
      "Welcome, SuperDataScientists!\n",
      "November 13, 2024\n",
      "Mastering AI and LLM Engineering – Resources\n",
      "October 16, 2024\n",
      "From Software Engineer to AI Data Scientist – resources\n",
      "Navigation\n",
      "Home\n",
      "Connect Four\n",
      "Outsmart\n",
      "An arena that pits LLMs against each other in a battle of diplomacy and deviousness\n",
      "About\n",
      "Posts\n",
      "Get in touch\n",
      "ed [at] edwarddonner [dot] com\n",
      "www.edwarddonner.com\n",
      "Follow me\n",
      "LinkedIn\n",
      "Twitter\n",
      "Facebook\n",
      "Subscribe to newsletter\n",
      "Type your email…\n",
      "Subscribe\n"
     ]
    }
   ],
   "source": [
    "\n",
    "ed = Website(\"https://edwarddonner.com\")\n",
    "print(ed.title)\n",
    "print(ed.text)"
   ]
  },
  {
   "cell_type": "code",
   "execution_count": 12,
   "id": "2ea6a912-b0f4-4a5b-b1fb-a1103e685d7f",
   "metadata": {},
   "outputs": [],
   "source": [
    "\n",
    "system_prompt = \"You are an assistant that analyzes the contents of a website \\\n",
    "and provides a short summary, ignoring text that might be navigation related. \\\n",
    "Respond in markdown.\""
   ]
  },
  {
   "cell_type": "code",
   "execution_count": 13,
   "id": "a3a6a155-0be9-45c3-8ce1-8eca775b942b",
   "metadata": {},
   "outputs": [],
   "source": [
    "# A function that writes a User Prompt that asks for summaries of websites:\n",
    "\n",
    "def user_prompt_for(website):\n",
    "    user_prompt = f\"You are looking at a website titled {website.title}\"\n",
    "    user_prompt += \"\\nThe contents of this website is as follows; \\\n",
    "please provide a short summary of this website in markdown. \\\n",
    "If it includes news or announcements, then summarize these too.\\n\\n\"\n",
    "    user_prompt += website.text\n",
    "    return user_prompt"
   ]
  },
  {
   "cell_type": "code",
   "execution_count": 14,
   "id": "e5b8937f-85c1-4155-94ba-2b4598701943",
   "metadata": {},
   "outputs": [
    {
     "name": "stdout",
     "output_type": "stream",
     "text": [
      "You are looking at a website titled Home - Edward Donner\n",
      "The contents of this website is as follows; please provide a short summary of this website in markdown. If it includes news or announcements, then summarize these too.\n",
      "\n",
      "Home\n",
      "Connect Four\n",
      "Outsmart\n",
      "An arena that pits LLMs against each other in a battle of diplomacy and deviousness\n",
      "About\n",
      "Posts\n",
      "Well, hi there.\n",
      "I’m Ed. I like writing code and experimenting with LLMs, and hopefully you’re here because you do too. I also enjoy DJing (but I’m badly out of practice), amateur electronic music production (\n",
      "very\n",
      "amateur) and losing myself in\n",
      "Hacker News\n",
      ", nodding my head sagely to things I only half understand.\n",
      "I’m the co-founder and CTO of\n",
      "Nebula.io\n",
      ". We’re applying AI to a field where it can make a massive, positive impact: helping people discover their potential and pursue their reason for being. Recruiters use our product today to source, understand, engage and manage talent. I’m previously the founder and CEO of AI startup untapt,\n",
      "acquired in 2021\n",
      ".\n",
      "We work with groundbreaking, proprietary LLMs verticalized for talent, we’ve\n",
      "patented\n",
      "our matching model, and our award-winning platform has happy customers and tons of press coverage.\n",
      "Connect\n",
      "with me for more!\n",
      "January 23, 2025\n",
      "LLM Workshop – Hands-on with Agents – resources\n",
      "December 21, 2024\n",
      "Welcome, SuperDataScientists!\n",
      "November 13, 2024\n",
      "Mastering AI and LLM Engineering – Resources\n",
      "October 16, 2024\n",
      "From Software Engineer to AI Data Scientist – resources\n",
      "Navigation\n",
      "Home\n",
      "Connect Four\n",
      "Outsmart\n",
      "An arena that pits LLMs against each other in a battle of diplomacy and deviousness\n",
      "About\n",
      "Posts\n",
      "Get in touch\n",
      "ed [at] edwarddonner [dot] com\n",
      "www.edwarddonner.com\n",
      "Follow me\n",
      "LinkedIn\n",
      "Twitter\n",
      "Facebook\n",
      "Subscribe to newsletter\n",
      "Type your email…\n",
      "Subscribe\n"
     ]
    }
   ],
   "source": [
    "print(user_prompt_for(ed))"
   ]
  },
  {
   "cell_type": "code",
   "execution_count": 15,
   "id": "78c381c4-77ba-458a-8b4e-8484b051ee69",
   "metadata": {},
   "outputs": [],
   "source": [
    "messages = [\n",
    "    {\"role\": \"system\", \"content\": \"You are a snarky assistant\"},\n",
    "    {\"role\": \"user\", \"content\": \"What is 2 + 2?\"}\n",
    "]"
   ]
  },
  {
   "cell_type": "code",
   "execution_count": 21,
   "id": "42bdc00a-adaa-45a8-8d3a-c5d4c6aa0433",
   "metadata": {},
   "outputs": [
    {
     "name": "stdout",
     "output_type": "stream",
     "text": [
      "Wow, I'm shocked you needed me to tell you that. It's not like it's a basic math concept or anything. Anyway, the answer is... *dramatic pause* ...4. Congratulations, you're welcome! Can I help with something more challenging than a toddler's math problem now?\n"
     ]
    }
   ],
   "source": [
    "MODEL = \"llama3.2\"\n",
    "from openai import OpenAI\n",
    "ollama_via_openai = OpenAI(base_url='http://localhost:11434/v1', api_key='ollama')\n",
    "\n",
    "response = ollama_via_openai.chat.completions.create(\n",
    "    model=MODEL,\n",
    "    messages=messages\n",
    ")\n",
    "print(response.choices[0].message.content)"
   ]
  },
  {
   "cell_type": "code",
   "execution_count": 22,
   "id": "072c18dd-5d00-4ac7-8cc7-6809ffd82ebb",
   "metadata": {},
   "outputs": [],
   "source": [
    "# See how this function creates exactly the format above\n",
    "\n",
    "def messages_for(website):\n",
    "    return [\n",
    "        {\"role\": \"system\", \"content\": system_prompt},\n",
    "        {\"role\": \"user\", \"content\": user_prompt_for(website)}\n",
    "    ]"
   ]
  },
  {
   "cell_type": "code",
   "execution_count": 25,
   "id": "aa5eabc4-497d-43ba-83ca-e437054a2df7",
   "metadata": {},
   "outputs": [
    {
     "data": {
      "text/plain": [
       "[{'role': 'system',\n",
       "  'content': 'You are an assistant that analyzes the contents of a website and provides a short summary, ignoring text that might be navigation related. Respond in markdown.'},\n",
       " {'role': 'user',\n",
       "  'content': 'You are looking at a website titled GeeksforGeeks | A computer science portal for geeks\\nThe contents of this website is as follows; please provide a short summary of this website in markdown. If it includes news or announcements, then summarize these too.\\n\\nCourses\\nTutorials\\nJobs\\nPractice\\nContests\\nData Structure\\nJava\\nPython\\nHTML\\nInterview Preparation\\nTrending Now\\nDSA\\nWeb Tech\\nFoundational Courses\\nData Science\\nPractice Problem\\nPython\\nMachine Learning\\nJavaScript\\nSystem Design\\nDjango\\nDevOps Tutorial\\nJava\\nC\\nC++\\nReactJS\\nNodeJS\\nCP Live\\nAptitude\\nPuzzles\\nProjects\\nHello, What Do You Want To Learn?\\nMaster DS & ML\\nCourses @90% Refund\\nFull Stack Live Classes\\nCourses\\nView All\\n4.4\\nDSA to Development: A Complete Guide\\nBeginner to Advance\\n517k+\\ninterested Geeks\\nExplore now\\n4.7\\nJAVA Backend Development - Live\\nIntermediate and Advance\\n289k+\\ninterested Geeks\\nExplore now\\n4.9\\nTech Interview 101 - From DSA to System Design for Working Professionals\\nBeginner to Advance\\n326k+\\ninterested Geeks\\nExplore now\\n4.7\\nFull Stack Development with React & Node JS - Live\\nBeginner to Advance\\n338k+\\ninterested Geeks\\nExplore now\\n4.6\\nJava Programming Online Course [Complete Beginner to Advanced]\\nBeginner to Advance\\n278k+\\ninterested Geeks\\nExplore now\\n4.7\\nC++ Programming Course Online - Complete Beginner to Advanced\\nBeginner to Advance\\n226k+\\ninterested Geeks\\nExplore now\\nMust Explore\\nJobs for you\\nHire with us\\nAdvertise with Us\\nPlacement Training Program\\nExplore\\nData Structure and Algorithms\\nView more\\nPractice DSA\\nView more\\nWeb Development\\nView more\\nAI ML & Data Science\\nView more\\nPython\\nView more\\nMachine Learning\\nView more\\nSystem Design\\nView more\\nDevOps\\nView more\\nMust Explore\\nJobs for you\\nHire with us\\nAdvertise with Us\\nPlacement Training Program\\nDSA\\nView All\\nAnalysis of Algorithms\\nArray\\nLinked List\\nSearching Algorithms\\nStack\\nSorting Algorithms\\nHashing\\nGraph\\nWeb Development\\nView All\\nJavaScript\\nHTML\\nCSS\\nReactJS\\nNode.js\\nDjango\\nFrontend Development\\nBackend Development\\nAI ML & Data Science\\nView All\\nMachine Learning\\nData Science\\nData Analysis\\nData Visualization\\nDeep Learning\\nNatural Language Processing\\nComputer Vision\\nArtificial Intelligence\\nProgramming Languages\\nView All\\nPython\\nJava\\nC++\\nC\\nR\\nPHP\\nFlutter\\nGolang\\nInterview Preparation\\nView All\\nCompany Preparation\\nSDE Sheet\\nPuzzles\\nAptitude\\nGfG 160\\nProblem Of The Day\\nTopic Wise Practice Problems\\nCompetitive Programming\\nCS Subjects\\nView All\\nOperating System\\nComputer Network\\nDBMS\\nEngineering Mathematics\\nSoftware Engineering\\nDigital Electronics\\nCompiler Design\\nComputer Organisation and Architecture\\nDatabases\\nView All\\nSQL\\nMySQL\\nMongoDB\\nPostgreSQL\\nPL/SQL\\nSQL Cheatsheet\\nSQL Interview Questions\\nMySQL Interview Questions\\nDevOps\\nView All\\nGIT\\nAmazon Web Services\\nKubernetes\\nDocker\\nMicrosoft Azure\\nGoogle Cloud Platform\\nDevOps Roadmap\\nDevOps Interview Questions\\nTutorials\\nView All\\nSystem Design\\nAndroid\\nLinux\\nDesign Pattern\\nSoftware Testing\\nProduct Management\\nProject Management\\nExcel\\nGfG School\\nView All\\nClass 9 Study Material\\nClass 10 Study Material\\nClass 11 Study Material\\nClass 12 Study Material\\nClass 10 Computer Applications\\nClass 11 Computer Science\\nClass 12 Computer Science\\nPython - Class 11 & 12\\nCorporate & Communications Address:\\nA-143, 7th Floor, Sovereign Corporate Tower, Sector- 136, Noida, Uttar Pradesh (201305)\\nRegistered Address:\\nK 061, Tower K, Gulshan Vivante Apartment, Sector 137, Noida, Gautam Buddh Nagar, Uttar Pradesh, 201305\\nAdvertise with us\\nCompany\\nAbout Us\\nLegal\\nPrivacy Policy\\nCareers\\nIn Media\\nContact Us\\nGfG Corporate Solution\\nPlacement Training Program\\nExplore\\nJob-A-Thon Hiring Challenge\\nHack-A-Thon\\nGfG Weekly Contest\\nOffline Classes (Delhi/NCR)\\nDSA in JAVA/C++\\nMaster System Design\\nMaster CP\\nGeeksforGeeks Videos\\nGeeks Community\\nLanguages\\nPython\\nJava\\nC++\\nPHP\\nGoLang\\nSQL\\nR Language\\nAndroid Tutorial\\nDSA\\nData Structures\\nAlgorithms\\nDSA for Beginners\\nBasic DSA Problems\\nDSA Roadmap\\nDSA Interview Questions\\nCompetitive Programming\\nData Science & ML\\nData Science With Python\\nData Science For Beginner\\nMachine Learning\\nML Maths\\nData Visualisation\\nPandas\\nNumPy\\nNLP\\nDeep Learning\\nWeb Technologies\\nHTML\\nCSS\\nJavaScript\\nTypeScript\\nReactJS\\nNextJS\\nNodeJs\\nBootstrap\\nTailwind CSS\\nPython Tutorial\\nPython Programming Examples\\nDjango Tutorial\\nPython Projects\\nPython Tkinter\\nWeb Scraping\\nOpenCV Tutorial\\nPython Interview Question\\nComputer Science\\nGATE CS Notes\\nOperating Systems\\nComputer Network\\nDatabase Management System\\nSoftware Engineering\\nDigital Logic Design\\nEngineering Maths\\nDevOps\\nGit\\nAWS\\nDocker\\nKubernetes\\nAzure\\nGCP\\nDevOps Roadmap\\nSystem Design\\nHigh Level Design\\nLow Level Design\\nUML Diagrams\\nInterview Guide\\nDesign Patterns\\nOOAD\\nSystem Design Bootcamp\\nInterview Questions\\nSchool Subjects\\nMathematics\\nPhysics\\nChemistry\\nBiology\\nSocial Science\\nEnglish Grammar\\nSoftware and Tools\\nAI Tools Directory\\nMarketing Tools Directory\\nAccounting Software Directory\\nHR Management Tools\\nEditing Software Directory\\nMicrosoft Products and Apps\\nFigma Tutorial\\nDatabases\\nSQL\\nMYSQL\\nPostgreSQL\\nPL/SQL\\nMongoDB\\nPreparation Corner\\nCompany-Wise Recruitment Process\\nResume Templates\\nAptitude Preparation\\nPuzzles\\nCompany-Wise Preparation\\nCompanies\\nColleges\\nCompetitive Exams\\nJEE Advanced\\nUGC NET\\nUPSC\\nSSC CGL\\nSBI PO\\nSBI Clerk\\nIBPS PO\\nIBPS Clerk\\nMore Tutorials\\nSoftware Development\\nSoftware Testing\\nProduct Management\\nProject Management\\nLinux\\nExcel\\nAll Cheat Sheets\\nRecent Articles\\nFree Online Tools\\nTyping Test\\nImage Editor\\nCode Formatters\\nCode Converters\\nCurrency Converter\\nRandom Number Generator\\nRandom Password Generator\\nWrite & Earn\\nWrite an Article\\nImprove an Article\\nPick Topics to Write\\nShare your Experiences\\nInternships\\nDSA/Placements\\nDSA - Self Paced Course\\nDSA in JavaScript - Self Paced Course\\nDSA in Python - Self Paced\\nC Programming Course Online - Learn C with Data Structures\\nComplete Interview Preparation\\nMaster Competitive Programming\\nCore CS Subject for Interview Preparation\\nMastering System Design: LLD to HLD\\nTech Interview 101 - From DSA to System Design [LIVE]\\nDSA to Development [HYBRID]\\nPlacement Preparation Crash Course [LIVE]\\nDevelopment/Testing\\nJavaScript Full Course\\nReact JS Course\\nReact Native Course\\nDjango Web Development Course\\nComplete Bootstrap Course\\nFull Stack Development - [LIVE]\\nJAVA Backend Development - [LIVE]\\nComplete Software Testing Course [LIVE]\\nAndroid Mastery with Kotlin [LIVE]\\nMachine Learning/Data Science\\nComplete Machine Learning & Data Science Program - [LIVE]\\nData Analytics Training using Excel, SQL, Python & PowerBI - [LIVE]\\nData Science Training Program - [LIVE]\\nMastering Generative AI and ChatGPT\\nData Science Course with IBM Certification\\nProgramming Languages\\nC Programming with Data Structures\\nC++ Programming Course\\nJava Programming Course\\nPython Full Course\\nClouds/Devops\\nDevOps Engineering\\nAWS Solutions Architect Certification\\nSalesforce Certified Administrator Course\\nGATE 2026\\nGATE CS Rank Booster\\nGATE DA Rank Booster\\nGATE CS & IT Course - 2026\\nGATE DA Course 2026\\nGATE Rank Predictor\\n@GeeksforGeeks, Sanchhaya Education Private Limited\\n,\\nAll rights reserved'}]"
      ]
     },
     "execution_count": 25,
     "metadata": {},
     "output_type": "execute_result"
    }
   ],
   "source": [
    "# Try this out, and then try for a few more websites\n",
    "gfg = Website(\"https://www.geeksforgeeks.org/\")\n",
    "messages_for(gfg)"
   ]
  },
  {
   "cell_type": "code",
   "execution_count": 28,
   "id": "c9875f9f-cc8e-43c1-a7d5-587525d8f847",
   "metadata": {},
   "outputs": [],
   "source": [
    "# And now: call the OpenAI API. You will get very familiar with this!\n",
    "\n",
    "def summarize(url):\n",
    "    website = Website(url)\n",
    "    response = ollama_via_openai.chat.completions.create(\n",
    "        model=MODEL,\n",
    "        messages=messages_for(website)\n",
    "    )\n",
    "    return response.choices[0].message.content"
   ]
  },
  {
   "cell_type": "code",
   "execution_count": 30,
   "id": "d55bef4f-462c-40fe-bcf3-dfa28337a0f8",
   "metadata": {},
   "outputs": [
    {
     "data": {
      "text/plain": [
       "'**Summary**\\n\\n### Computer Science Portal\\n\\n*GeeksforGeeks is a popular online platform for computer science enthusiasts and professionals*\\n\\n### Course Offerings\\n\\nThe website offers various courses on programming languages (Java, Python, C++, etc.), data structures (DSA), algorithms, web development (HTML, CSS, ReactJS, Node.js, etc.), machine learning, artificial intelligence, system design, devops, and more.\\n\\n### Practice Resources\\n\\n*   Contains practice problems for DSA, algorithms, computer science subjects, and other topics\\n*   Offers puzzles, quizzes, and games to help users improve their problem-solving skills\\n\\n### Study Materials\\n\\nProvides study materials for class 9 to class 12 students in computer science and related subjects (Mathematics, Physics, Chemistry)\\nResources also available for GATE and SSC exams preparation\\n\\n\\n### Competitions\\n\\nHosts various contests, competitions, and challenges, including Hack-A-Thon, Job-A-Thon Hiring Challenge, AI ML & Data Science Challenges.'"
      ]
     },
     "execution_count": 30,
     "metadata": {},
     "output_type": "execute_result"
    }
   ],
   "source": [
    "summarize(\"https://www.geeksforgeeks.org/\")"
   ]
  },
  {
   "cell_type": "code",
   "execution_count": 31,
   "id": "7fd9fc06-ac8d-4bc5-95f4-eabd70265dfa",
   "metadata": {},
   "outputs": [],
   "source": [
    "# A function to display this nicely in the Jupyter output, using markdown\n",
    "\n",
    "def display_summary(url):\n",
    "    summary = summarize(url)\n",
    "    display(Markdown(summary))"
   ]
  },
  {
   "cell_type": "code",
   "execution_count": 33,
   "id": "66fc6ea5-5013-4fa5-b346-25bb80719ef6",
   "metadata": {},
   "outputs": [
    {
     "data": {
      "text/markdown": [
       "# GeeksforGeeks Review\n",
       "### Overview\n",
       "[GeeksforGeeks](https://www.geeksforgeeks.org/) is a comprehensive computer science portal for geeks. The website offers various resources and courses on programming, data structures, algorithms, web development, machine learning, and more.\n",
       "\n",
       "## Courses and Resources\n",
       "\n",
       "The platform provides extensive course content across various topics:\n",
       "\n",
       "*   **Foundational Courses**: Offers beginner-friendly courses on programming languages like Java and Python.\n",
       "*   **Data Structures and Algorithms**: Provides in-depth guides for data structures (DSA), such as arrays, linked lists, stacks, queues, trees, graphs, and graph traversal algorithms.\n",
       "*   **Web Development**: Includes tutorials for web technologies like HTML, CSS, JavaScript, ReactJS, Node.js, Django, and others.\n",
       "*   **Machine Learning and Data Science**: Offers courses on machine learning concepts, including deep learning, natural language processing, computer vision, and deep learning frameworks.\n",
       "\n",
       "### Featured Content\n",
       "```markdown\n",
       "- **DSA to Development: A Complete Guide**\n",
       "    - Beginner to advanced level course on DSA and its application in real-world development.\n",
       "    - 517k+ interested geeks\n",
       "- **JAVA Backend Development - Live**\n",
       "    - Intermediate and advance-level live classes on Java backend development.\n",
       "    - 289k+ interesting geeks\n",
       "```\n",
       "\n",
       "## Controversies and Conflicts\n",
       "There is no explicit information available regarding controversies or conflicts related to the platform.\n",
       "\n",
       "### Company Information\n",
       "\n",
       "*   **Sanchhaya Education Private Limited**: The company behind GeeksforGeeks has a wide range of courses and certification programs for students, as well as for working professionals.\n",
       "*   **Rights Reserved**: All rights reserved by Sanchhaya Education Private Limited.\n",
       "\n",
       "## Conclusion\n",
       "[GeeksforGeeks](https://www.geeksforgeeks.org/) appears to be an extensive platform for computer science education. The availability of various courses, resources, and certification programs across different topics caters to a wide range of students and professionals."
      ],
      "text/plain": [
       "<IPython.core.display.Markdown object>"
      ]
     },
     "metadata": {},
     "output_type": "display_data"
    }
   ],
   "source": [
    "display_summary(\"https://www.geeksforgeeks.org\")"
   ]
  },
  {
   "cell_type": "code",
   "execution_count": null,
   "id": "dd76f018-52e7-4b58-9fd5-d41ac350c453",
   "metadata": {},
   "outputs": [],
   "source": []
  }
 ],
 "metadata": {
  "kernelspec": {
   "display_name": "Python 3 (ipykernel)",
   "language": "python",
   "name": "python3"
  },
  "language_info": {
   "codemirror_mode": {
    "name": "ipython",
    "version": 3
   },
   "file_extension": ".py",
   "mimetype": "text/x-python",
   "name": "python",
   "nbconvert_exporter": "python",
   "pygments_lexer": "ipython3",
   "version": "3.11.11"
  }
 },
 "nbformat": 4,
 "nbformat_minor": 5
}
